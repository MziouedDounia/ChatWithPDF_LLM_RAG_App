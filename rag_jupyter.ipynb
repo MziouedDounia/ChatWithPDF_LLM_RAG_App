{
 "cells": [
  {
   "cell_type": "markdown",
   "metadata": {},
   "source": [
    "import"
   ]
  },
  {
   "cell_type": "code",
   "execution_count": 45,
   "metadata": {},
   "outputs": [],
   "source": [
    "from langchain_community.chat_models import ChatOllama\n",
    "from langchain_core.output_parsers import StrOutputParser\n",
    "from langchain_community.document_loaders import PyPDFLoader\n",
    "from langchain.prompts import PromptTemplate\n",
    "from langchain_text_splitters import RecursiveCharacterTextSplitter\n",
    "from langchain_community.embeddings import OllamaEmbeddings\n",
    "# from langchain_community.vectorstores import DocArrayInMemorySearch\n",
    "from langchain_community.vectorstores import Chroma\n",
    "from langchain_chroma import Chroma\n",
    "from operator import itemgetter"
   ]
  },
  {
   "cell_type": "markdown",
   "metadata": {},
   "source": [
    "llm\n"
   ]
  },
  {
   "cell_type": "code",
   "execution_count": 46,
   "metadata": {},
   "outputs": [],
   "source": [
    "# local_model = \"phi3\"\n",
    "local_model = \"qwen2:1.5b\"\n",
    "\n",
    "llm = ChatOllama(model=local_model)"
   ]
  },
  {
   "cell_type": "code",
   "execution_count": 47,
   "metadata": {},
   "outputs": [],
   "source": [
    "#Parse the response\n",
    "parser = StrOutputParser()"
   ]
  },
  {
   "cell_type": "markdown",
   "metadata": {},
   "source": [
    "embeding"
   ]
  },
  {
   "cell_type": "code",
   "execution_count": 48,
   "metadata": {},
   "outputs": [],
   "source": [
    " # Instantiate embedding model\n",
    "embeddings = OllamaEmbeddings(model=\"nomic-embed-text\", show_progress=True)"
   ]
  },
  {
   "cell_type": "code",
   "execution_count": 49,
   "metadata": {},
   "outputs": [],
   "source": [
    "# emplacement chroma\n",
    "persist_directory = './db_chroma2'\n"
   ]
  },
  {
   "cell_type": "markdown",
   "metadata": {},
   "source": [
    "load document"
   ]
  },
  {
   "cell_type": "code",
   "execution_count": 50,
   "metadata": {},
   "outputs": [],
   "source": [
    "# pas executer \n",
    "loader = PyPDFLoader(\"./data/Artificial-Intelligence-The-Future.pdf\")\n",
    "pages = loader.load_and_split()"
   ]
  },
  {
   "cell_type": "code",
   "execution_count": 51,
   "metadata": {},
   "outputs": [],
   "source": [
    "# pas executer\n",
    "# Split the document into chunks\n",
    "text_splitter = RecursiveCharacterTextSplitter(chunk_size=1000, chunk_overlap=100)\n",
    "chunks = text_splitter.split_documents(pages)\n"
   ]
  },
  {
   "cell_type": "code",
   "execution_count": 52,
   "metadata": {},
   "outputs": [],
   "source": [
    "# vectorstore = Chroma.from_documents(\n",
    "#     documents=chunks,\n",
    "#     embedding=embeddings,\n",
    "#     persist_directory=persist_directory\n",
    "# )  "
   ]
  },
  {
   "cell_type": "code",
   "execution_count": 53,
   "metadata": {},
   "outputs": [],
   "source": [
    "# Define the optimized RAG prompt template\n",
    "template = \"\"\"You are a helpful assistant that answers questions based only on the given context.\n",
    "If you don't know the answer, just say that you don't know, don't try to make up an answer. \n",
    "Use three sentences maximum.\n",
    "\n",
    "Context: {context}\n",
    "\n",
    "Question: {question}\n",
    "\n",
    "Answer: \"\"\"\n",
    "\n",
    "prompt = PromptTemplate.from_template(template)"
   ]
  },
  {
   "cell_type": "code",
   "execution_count": 54,
   "metadata": {},
   "outputs": [
    {
     "name": "stdout",
     "output_type": "stream",
     "text": [
      "20\n"
     ]
    }
   ],
   "source": [
    "persist_directory = './db_chroma2'\n",
    "vectorstore = Chroma(persist_directory=persist_directory, embedding_function=embeddings)\n",
    "print(vectorstore._collection.count())\n"
   ]
  },
  {
   "cell_type": "code",
   "execution_count": 55,
   "metadata": {},
   "outputs": [],
   "source": [
    "\n",
    "# # Retrieve documents using similarity search\n",
    "# question = \"What is the  literacy rate of India in 2022\"\n",
    "# docs = vectorstore.similarity_search(question, k=5)\n",
    "\n",
    "# # Format the context from retrieved documents\n",
    "# context = \"\\n\".join([doc.page_content for doc in docs])\n"
   ]
  },
  {
   "cell_type": "code",
   "execution_count": 56,
   "metadata": {},
   "outputs": [],
   "source": [
    "\n",
    "# # Retrieve documents using similarity search\n",
    "# question = \"What is the exact saying of Mark Zuckerberg about people against AI\"\n",
    "# docs = vectorstore.similarity_search(question, k=5)\n",
    "\n",
    "# # Format the context from retrieved documents\n",
    "# context = \"\\n\".join([doc.page_content for doc in docs])\n"
   ]
  },
  {
   "cell_type": "code",
   "execution_count": 57,
   "metadata": {},
   "outputs": [
    {
     "name": "stderr",
     "output_type": "stream",
     "text": [
      "OllamaEmbeddings: 100%|██████████| 1/1 [00:03<00:00,  3.19s/it]\n"
     ]
    }
   ],
   "source": [
    "\n",
    "# Retrieve documents using similarity search\n",
    "question = \"How has technology historically impacted jobs?\"\n",
    "docs = vectorstore.similarity_search(question, k=5)\n",
    "\n",
    "# Format the context from retrieved documents\n",
    "context = \"\\n\".join([doc.page_content for doc in docs])"
   ]
  },
  {
   "cell_type": "code",
   "execution_count": 58,
   "metadata": {},
   "outputs": [
    {
     "name": "stdout",
     "output_type": "stream",
     "text": [
      "context est  and tempo driver.  Telephone operator lost their job due to \n",
      "mobile phone. When ATM came, the jobs of bank tellers in \n",
      "the banking sector declined rapidly. While  robots have displaced unskilled workers on assembly lines  and \n",
      "due to online websites, booking operator also lose their jobs.  Thus technological revolution have both face \n",
      "of job killer and creator.  \n",
      "In the latest report (May 2023) on The Future of Jobs, the World Economic Forum (WEF) predicts the \n",
      "creation of 69 million jobs by 2027 due to AI, but also the  destruction of 89 million jobs and 47 per cent  Job \n",
      "will replace in next 20 years due to AI.  \n",
      "IBM CEO Arvind  Krishna told “I could easily see 30 % of jobs getting replaced by AI & auto mation over a \n",
      "five year period”. According to a report by global investment bank Goldman Sachs, AI could replace the \n",
      "equivalent of 300 million full time jobs and generative AI, able to create content indistinguishable from \n",
      "human work, is “a major advancement”.\n",
      "International Journal of Scientific Research in E ngineering and Management  (IJSREM)  \n",
      "                      Volume: 0 8 Issue: 01 | January  - 202 4                           SJIF Rating : 8.176                              ISSN: 2582 -3930                                                                                                                                                \n",
      " \n",
      "© 2024, IJSREM      |  www.ijsrem.com                            DOI: 10.55041/IJSREM27796                            |        Page 4 Difference between Augmented intelligence and Artificial Intelligence  \n",
      " \n",
      " \n",
      " \n",
      " \n",
      " \n",
      " \n",
      " \n",
      " \n",
      " \n",
      " \n",
      " \n",
      " \n",
      "AI Job Killer orCreator ? \n",
      "The impact of AI on jobs is a  complex and multifaceted \n",
      "issue because if we recall the history whenever there is a \n",
      "revolution in technology: old jobs ar e lost and new jobs are \n",
      "created. The same things will be happen with AI. For \n",
      "example , the job of horse cart driver was replaced by car \n",
      "and tempo driver.  Telephone operator lost their job due to\n",
      "Application of AI fields are Healthcare, Business, Education, Agriculture, Finance, Law, Entertainment \n",
      "and media, Software coding and IT processes, Security, Manufacturing, Banking and Transportation. In \n",
      "reference to Job creation or distraction, Artificial Intelligence is not job killer but a job category killer”. In \n",
      "the latest report (May 2023) on The Future of Jobs, the World Economic Forum (WEF) predicts the \n",
      "creation of 69 million jobs by 2027 thanks to AI, but also the destruction of 89 million jobs.  In context to \n",
      "intelligence level, Jan. 2022, Age of IQ level of AI \n",
      "was as 7 year Children and in Dec. 2022, Age of IQ \n",
      "level of AI was as 9 year Children. India is \n",
      "emerging market in global and it has around 12 % \n",
      "of work could be automated by AI. In India more \n",
      "than 2000 startup are related to AI and 90000 plus \n",
      "AI Professional work in India.The economic impact \n",
      "of AI, for select G20 countries and estimates AI to \n",
      "boost India’s annual growth rate by 1.3 percentage\n",
      "humans through natural language.  \n",
      " \n",
      "Application of AI  \n",
      "Artificial Intelligence (AI) has a wide range of applications across various industries. The following are a \n",
      "few notable and popular applica tions of AI in the modern world.  \n",
      "1. Virtual Personal Assistants:  Virtual assistants like Siri, Google Assistant, and Alexa use AI to \n",
      "understand and respond to user commands, helping with tasks such as setting reminders, answering \n",
      "questions, and providing recommendations.\n",
      "This is used in manufacturing, logistics, healthcare, and exploration.  \n",
      "8. Gaming:  AI is employed in the gaming industry for creating intelligent virtual opponents, adaptive \n",
      "game scenarios, and realistic simulations.  \n",
      "9. Cyber security:  AI helps in identifying and preventing cyber threats by analyzing network \n",
      "behavior, detecting anomalies, and enhancing security measures.  \n",
      "10. Education:  AI is used in educational technology for personalized learning, adaptive assessment, \n",
      "and providing intelligent tutoring systems.  \n",
      "Apart from these fields  AI also applicable in Agriculture, finance, law, banking and transportation sector.  \n",
      "Advantages of AI  \n",
      "Artificial Intelligence (AI) offers numerous advantages across various domains, contributing to \n",
      "innovation, automation , efficiency, and improved decision -making. Like \n",
      "1. Increase productivity & quality in production  \n",
      "2. Automation  \n",
      "3. Increase efficiency and performance  \n",
      "4. Innovation  \n",
      "5. AI helps in making faster decision\n"
     ]
    }
   ],
   "source": [
    "print(\"context est \",context)"
   ]
  },
  {
   "cell_type": "code",
   "execution_count": 59,
   "metadata": {},
   "outputs": [
    {
     "name": "stdout",
     "output_type": "stream",
     "text": [
      "Answer :  Technology's historical impact on jobs has been a complex one, with revolutions leading to the displacement of old jobs and the creation of new ones. For example, horse cart drivers were replaced by car drivers, and telephone operators lost their jobs due to advancements in communication technologies like mobile phones and ATMs. The future job outlook is projected to see a significant impact on AI technology, predicting the creation of 69 million jobs through artificial intelligence but also noting that around 89 million jobs may be destroyed by 2027. Overall, it's clear that technological advancements have both positive and negative effects on the workforce, leading to new opportunities as well as job displacement.\n"
     ]
    }
   ],
   "source": [
    "chain_input = {\n",
    "    \"context\": context,\n",
    "    \"question\": question,\n",
    "}\n",
    "\n",
    "# Build the chain with the context and question\n",
    "chain = prompt | llm | parser\n",
    "\n",
    "answer = chain.invoke(chain_input)\n",
    "print(\"Answer : \",answer)"
   ]
  },
  {
   "cell_type": "code",
   "execution_count": null,
   "metadata": {},
   "outputs": [],
   "source": []
  }
 ],
 "metadata": {
  "kernelspec": {
   "display_name": ".venv",
   "language": "python",
   "name": "python3"
  },
  "language_info": {
   "codemirror_mode": {
    "name": "ipython",
    "version": 3
   },
   "file_extension": ".py",
   "mimetype": "text/x-python",
   "name": "python",
   "nbconvert_exporter": "python",
   "pygments_lexer": "ipython3",
   "version": "3.12.5"
  }
 },
 "nbformat": 4,
 "nbformat_minor": 2
}

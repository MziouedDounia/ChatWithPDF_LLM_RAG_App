{
 "cells": [
  {
   "cell_type": "code",
   "execution_count": 16,
   "metadata": {},
   "outputs": [],
   "source": [
    "import os\n",
    "os.environ[\"LANGCHAIN_TRACING_V2\"] = \"true\"\n",
    "os.environ[\"LANGCHAIN_ENDPOINT\"] = \"https://api.langchain.plus/\"\n",
    "os.environ[\"LANGCHAIN_API_KEY\"] = \"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\""
   ]
  },
  {
   "cell_type": "markdown",
   "metadata": {},
   "source": [
    "import"
   ]
  },
  {
   "cell_type": "code",
   "execution_count": 17,
   "metadata": {},
   "outputs": [],
   "source": [
    "from langchain_community.chat_models import ChatOllama\n",
    "from langchain_core.output_parsers import StrOutputParser\n",
    "from langchain_community.document_loaders import PyPDFLoader\n",
    "from langchain.prompts import PromptTemplate\n",
    "from langchain_text_splitters import RecursiveCharacterTextSplitter\n",
    "from langchain_community.embeddings import OllamaEmbeddings\n",
    "# from langchain_community.vectorstores import DocArrayInMemorySearch\n",
    "from langchain_community.vectorstores import Chroma\n",
    "from langchain_chroma import Chroma\n",
    "from operator import itemgetter"
   ]
  },
  {
   "cell_type": "markdown",
   "metadata": {},
   "source": [
    "llm\n"
   ]
  },
  {
   "cell_type": "code",
   "execution_count": 18,
   "metadata": {},
   "outputs": [],
   "source": [
    "# local_model = \"phi3\"\n",
    "local_model = \"qwen2:1.5b\"\n",
    "\n",
    "llm = ChatOllama(model=local_model)"
   ]
  },
  {
   "cell_type": "code",
   "execution_count": 19,
   "metadata": {},
   "outputs": [],
   "source": [
    "#Parse the response\n",
    "parser = StrOutputParser()"
   ]
  },
  {
   "cell_type": "markdown",
   "metadata": {},
   "source": [
    "embeding"
   ]
  },
  {
   "cell_type": "code",
   "execution_count": 20,
   "metadata": {},
   "outputs": [],
   "source": [
    " # Instantiate embedding model\n",
    "embeddings = OllamaEmbeddings(model=\"nomic-embed-text\", show_progress=True)"
   ]
  },
  {
   "cell_type": "code",
   "execution_count": 21,
   "metadata": {},
   "outputs": [],
   "source": [
    "# emplacement chroma\n",
    "persist_directory = './db_chroma2'\n"
   ]
  },
  {
   "cell_type": "markdown",
   "metadata": {},
   "source": [
    "load document"
   ]
  },
  {
   "cell_type": "code",
   "execution_count": 22,
   "metadata": {},
   "outputs": [],
   "source": [
    "# pas executer \n",
    "# loader = PyPDFLoader(\"./data/Artificial-Intelligence-The-Future.pdf\")\n",
    "# pages = loader.load_and_split()"
   ]
  },
  {
   "cell_type": "code",
   "execution_count": 23,
   "metadata": {},
   "outputs": [],
   "source": [
    "# pas executer\n",
    "# Split the document into chunks\n",
    "# text_splitter = RecursiveCharacterTextSplitter(chunk_size=1000, chunk_overlap=100)\n",
    "# chunks = text_splitter.split_documents(pages)\n"
   ]
  },
  {
   "cell_type": "code",
   "execution_count": 24,
   "metadata": {},
   "outputs": [],
   "source": [
    "# vectorstore = Chroma.from_documents(\n",
    "#     documents=chunks,\n",
    "#     embedding=embeddings,\n",
    "#     persist_directory=persist_directory\n",
    "# )  "
   ]
  },
  {
   "cell_type": "code",
   "execution_count": 25,
   "metadata": {},
   "outputs": [],
   "source": [
    "# Define the optimized RAG prompt template\n",
    "template = \"\"\"You are a helpful assistant that answers questions based only on the given context.\n",
    "If you don't know the answer, just say that you don't know, don't try to make up an answer. \n",
    "Use three sentences maximum.\n",
    "\n",
    "Context: {context}\n",
    "\n",
    "Question: {question}\n",
    "\n",
    "Answer: \"\"\"\n",
    "\n",
    "prompt = PromptTemplate.from_template(template)"
   ]
  },
  {
   "cell_type": "code",
   "execution_count": 26,
   "metadata": {},
   "outputs": [
    {
     "name": "stdout",
     "output_type": "stream",
     "text": [
      "20\n"
     ]
    }
   ],
   "source": [
    "persist_directory = './db_chroma2'\n",
    "vectorstore = Chroma(persist_directory=persist_directory, embedding_function=embeddings)\n",
    "print(vectorstore._collection.count())\n"
   ]
  },
  {
   "cell_type": "code",
   "execution_count": 27,
   "metadata": {},
   "outputs": [],
   "source": [
    "\n",
    "# # Retrieve documents using similarity search\n",
    "# question = \"What is the  literacy rate of India in 2022\"\n",
    "# docs = vectorstore.similarity_search(question, k=5)\n",
    "\n",
    "# # Format the context from retrieved documents\n",
    "# context = \"\\n\".join([doc.page_content for doc in docs])\n"
   ]
  },
  {
   "cell_type": "code",
   "execution_count": 28,
   "metadata": {},
   "outputs": [],
   "source": [
    "\n",
    "# # Retrieve documents using similarity search\n",
    "# question = \"What is the exact saying of Mark Zuckerberg about people against AI\"\n",
    "# docs = vectorstore.similarity_search(question, k=5)\n",
    "\n",
    "# # Format the context from retrieved documents\n",
    "# context = \"\\n\".join([doc.page_content for doc in docs])\n"
   ]
  },
  {
   "cell_type": "code",
   "execution_count": 29,
   "metadata": {},
   "outputs": [
    {
     "name": "stderr",
     "output_type": "stream",
     "text": [
      "OllamaEmbeddings: 100%|██████████| 1/1 [00:03<00:00,  3.82s/it]\n"
     ]
    }
   ],
   "source": [
    "\n",
    "# Retrieve documents using similarity search\n",
    "question = \"What is Arvind Krishna’s view on the impact of AI on employment?\"\n",
    "docs = vectorstore.similarity_search(question, k=5)\n",
    "\n",
    "# Format the context from retrieved documents\n",
    "context = \"\\n\".join([doc.page_content for doc in docs])"
   ]
  },
  {
   "cell_type": "code",
   "execution_count": 30,
   "metadata": {},
   "outputs": [
    {
     "name": "stdout",
     "output_type": "stream",
     "text": [
      "context est  Application of AI fields are Healthcare, Business, Education, Agriculture, Finance, Law, Entertainment \n",
      "and media, Software coding and IT processes, Security, Manufacturing, Banking and Transportation. In \n",
      "reference to Job creation or distraction, Artificial Intelligence is not job killer but a job category killer”. In \n",
      "the latest report (May 2023) on The Future of Jobs, the World Economic Forum (WEF) predicts the \n",
      "creation of 69 million jobs by 2027 thanks to AI, but also the destruction of 89 million jobs.  In context to \n",
      "intelligence level, Jan. 2022, Age of IQ level of AI \n",
      "was as 7 year Children and in Dec. 2022, Age of IQ \n",
      "level of AI was as 9 year Children. India is \n",
      "emerging market in global and it has around 12 % \n",
      "of work could be automated by AI. In India more \n",
      "than 2000 startup are related to AI and 90000 plus \n",
      "AI Professional work in India.The economic impact \n",
      "of AI, for select G20 countries and estimates AI to \n",
      "boost India’s annual growth rate by 1.3 percentage\n",
      "and tempo driver.  Telephone operator lost their job due to \n",
      "mobile phone. When ATM came, the jobs of bank tellers in \n",
      "the banking sector declined rapidly. While  robots have displaced unskilled workers on assembly lines  and \n",
      "due to online websites, booking operator also lose their jobs.  Thus technological revolution have both face \n",
      "of job killer and creator.  \n",
      "In the latest report (May 2023) on The Future of Jobs, the World Economic Forum (WEF) predicts the \n",
      "creation of 69 million jobs by 2027 due to AI, but also the  destruction of 89 million jobs and 47 per cent  Job \n",
      "will replace in next 20 years due to AI.  \n",
      "IBM CEO Arvind  Krishna told “I could easily see 30 % of jobs getting replaced by AI & auto mation over a \n",
      "five year period”. According to a report by global investment bank Goldman Sachs, AI could replace the \n",
      "equivalent of 300 million full time jobs and generative AI, able to create content indistinguishable from \n",
      "human work, is “a major advancement”.\n",
      "posed by AI.  \n",
      "“We need to move forward on artificial intelligence development but we also need to be mindful of its very \n",
      "real dangers. I fear that AI may replace humans altogether.”  - Stephen Hawking  \n",
      "AI & India  \n",
      "It is a serious concern for India to see future with AI , because according to National Sample Survey \n",
      "organization Report, literacy  rate of India is 77 % in 2022  if we see AI as new Era then 23 % Indian \n",
      "population will left in old Era. Nearly 60 % Indian between ages of 15 to 29 cannot  copy or move \n",
      "computer files and 75 % Indian cannot send E -mails with attachment.  \n",
      "Conclusion  \n",
      "The study conclude that a rtificial Intelligence is one such field that contains a lot of opportunity and good \n",
      "fortune if, India is capable to utilize all the potentials from it. The government of India has already laid the \n",
      "groundwork for building an AI ecosystem in India through the appointment of a task force on artificial\n",
      "International Journal of Scientific Research in E ngineering and Management  (IJSREM)  \n",
      "                      Volume: 0 8 Issue: 01 | January  - 202 4                           SJIF Rating : 8.176                              ISSN: 2582 -3930                                                                                                                                                \n",
      " \n",
      "© 2024, IJSREM      |  www.ijsrem.com                            DOI: 10.55041/IJSREM27796                            |        Page 4 Difference between Augmented intelligence and Artificial Intelligence  \n",
      " \n",
      " \n",
      " \n",
      " \n",
      " \n",
      " \n",
      " \n",
      " \n",
      " \n",
      " \n",
      " \n",
      " \n",
      "AI Job Killer orCreator ? \n",
      "The impact of AI on jobs is a  complex and multifaceted \n",
      "issue because if we recall the history whenever there is a \n",
      "revolution in technology: old jobs ar e lost and new jobs are \n",
      "created. The same things will be happen with AI. For \n",
      "example , the job of horse cart driver was replaced by car \n",
      "and tempo driver.  Telephone operator lost their job due to\n",
      "intelligence.  Artificial Intelligence can prove to be technological revolution and boom agriculture to feed \n",
      "the increasing human population of the world. Recommended policy is for AI that identifying a Nodal \n",
      "Agency within the Government for development and diffusion of AI, the design and workings of which \n",
      "will be critical to push wide -scale AI adoption in India.  Explore a market place for skilled AI professionals \n",
      "to meet the immediate skill gap that AI start -up currently face.  \n",
      "References  \n",
      "1. https://niti.gov.in/  \n",
      "2. https://mospi.gov.in/NSSOa  \n",
      "3. https://www.weforum.org/   \n",
      "View publication stats\n"
     ]
    }
   ],
   "source": [
    "print(\"context est \",context)"
   ]
  },
  {
   "cell_type": "code",
   "execution_count": 31,
   "metadata": {},
   "outputs": [
    {
     "name": "stdout",
     "output_type": "stream",
     "text": [
      "Answer :  Historically, technological advancements have led to the creation of new job opportunities as well as the displacement of certain jobs due to automation and artificial intelligence. For example, the invention of the telephone and ATM eliminated the need for landline operators and bank tellers respectively, while the widespread adoption of computers and digital technology has resulted in the decline of manual labor jobs that were once common.\n"
     ]
    }
   ],
   "source": [
    "chain_input = {\n",
    "    \"context\": context,\n",
    "    \"question\": question,\n",
    "}\n",
    "\n",
    "# Build the chain with the context and question\n",
    "chain = prompt | llm | parser\n",
    "\n",
    "answer = chain.invoke(chain_input)\n",
    "print(\"Answer : \",answer)"
   ]
  },
  {
   "cell_type": "code",
   "execution_count": null,
   "metadata": {},
   "outputs": [],
   "source": []
  }
 ],
 "metadata": {
  "kernelspec": {
   "display_name": ".venv",
   "language": "python",
   "name": "python3"
  },
  "language_info": {
   "codemirror_mode": {
    "name": "ipython",
    "version": 3
   },
   "file_extension": ".py",
   "mimetype": "text/x-python",
   "name": "python",
   "nbconvert_exporter": "python",
   "pygments_lexer": "ipython3",
   "version": "3.12.5"
  }
 },
 "nbformat": 4,
 "nbformat_minor": 2
}

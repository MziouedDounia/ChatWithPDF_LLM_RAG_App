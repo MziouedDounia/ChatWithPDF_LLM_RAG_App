{
 "cells": [
  {
   "cell_type": "markdown",
   "metadata": {},
   "source": [
    "set USER_AGENT=YourCustomUserAgent/1.0\n"
   ]
  },
  {
   "cell_type": "code",
   "execution_count": 2,
   "metadata": {},
   "outputs": [
    {
     "name": "stderr",
     "output_type": "stream",
     "text": [
      "USER_AGENT environment variable not set, consider setting it to identify your requests.\n"
     ]
    }
   ],
   "source": [
    "from test_memory_history import conversational_rag_chain , get_session_history"
   ]
  },
  {
   "cell_type": "code",
   "execution_count": 3,
   "metadata": {},
   "outputs": [],
   "source": [
    "session_id = \"user_anouar2\"\n",
    "history = get_session_history(session_id)"
   ]
  },
  {
   "cell_type": "code",
   "execution_count": 6,
   "metadata": {},
   "outputs": [],
   "source": [
    "user_input = {\"input\": \"How did Sultan Ahmed al-Mansur's rise to power and the victory at the Battle of the Three Kings influence his reign as the ruler of Morocco?\"}\n"
   ]
  },
  {
   "cell_type": "code",
   "execution_count": 11,
   "metadata": {},
   "outputs": [
    {
     "name": "stderr",
     "output_type": "stream",
     "text": [
      "OllamaEmbeddings: 100%|██████████| 1/1 [00:03<00:00,  3.85s/it]\n"
     ]
    },
    {
     "name": "stdout",
     "output_type": "stream",
     "text": [
      "Ahmed al-Mansour seized control after a revolt against his brother, which led him directly into conflict with Spain. His military successes in battles like Mrazig and Ksar el Hirane reinforced his authority within the empire. The victory at the Battle of the Three Kings significantly boosted Morocco's standing among European powers, leading to increased respect and diplomatic leverage during al-Mansur's reign.\n"
     ]
    }
   ],
   "source": [
    "response = conversational_rag_chain.invoke(\n",
    "    input=user_input,\n",
    "    config={'configurable': {'session_id': session_id}}\n",
    ")\n",
    "print(response[\"answer\"])\n"
   ]
  },
  {
   "cell_type": "code",
   "execution_count": 12,
   "metadata": {},
   "outputs": [],
   "source": [
    "user_input = {\"input\": \"what is the name of this battle ?\"}\n"
   ]
  },
  {
   "cell_type": "code",
   "execution_count": 13,
   "metadata": {},
   "outputs": [],
   "source": [
    "response = conversational_rag_chain.invoke(\n",
    "    input=user_input,\n",
    "    config={'configurable': {'session_id': session_id}}\n",
    ")\n",
    "print(response[\"answer\"])\n"
   ]
  },
  {
   "cell_type": "code",
   "execution_count": null,
   "metadata": {},
   "outputs": [],
   "source": []
  }
 ],
 "metadata": {
  "kernelspec": {
   "display_name": ".venv",
   "language": "python",
   "name": "python3"
  },
  "language_info": {
   "codemirror_mode": {
    "name": "ipython",
    "version": 3
   },
   "file_extension": ".py",
   "mimetype": "text/x-python",
   "name": "python",
   "nbconvert_exporter": "python",
   "pygments_lexer": "ipython3",
   "version": "3.12.5"
  }
 },
 "nbformat": 4,
 "nbformat_minor": 2
}
